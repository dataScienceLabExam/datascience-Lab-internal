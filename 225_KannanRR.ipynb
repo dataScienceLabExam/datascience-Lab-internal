{
  "nbformat": 4,
  "nbformat_minor": 0,
  "metadata": {
    "colab": {
      "provenance": []
    },
    "kernelspec": {
      "name": "python3",
      "display_name": "Python 3"
    },
    "language_info": {
      "name": "python"
    }
  },
  "cells": [
    {
      "cell_type": "code",
      "execution_count": null,
      "metadata": {
        "id": "OOHmCLkOzcqa"
      },
      "outputs": [],
      "source": [
        "import pandas as pd\n",
        "d=pd.read_csv('/content/sample_data/car_evaluation.csv')\n",
        "d"
      ]
    },
    {
      "cell_type": "code",
      "source": [
        "x=d.drop(columns=['0urate'])\n",
        "y=d['0urate']"
      ],
      "metadata": {
        "id": "F_VgORxhz3Qa"
      },
      "execution_count": null,
      "outputs": []
    },
    {
      "cell_type": "code",
      "source": [
        "from sklearn.preprocessing import StandardScaler\n",
        "s=StandardScaler()\n",
        "\n",
        "t=s.fit_transform(x)"
      ],
      "metadata": {
        "id": "tpQUED5T0BWy"
      },
      "execution_count": null,
      "outputs": []
    },
    {
      "cell_type": "code",
      "source": [
        "from sklearn.model_selection import train_test_split\n",
        "xtrain,xtest,ytrain,ytest=train_test_split(t,y,test_size=0.3)"
      ],
      "metadata": {
        "id": "4yNqoQGr1Myh"
      },
      "execution_count": null,
      "outputs": []
    },
    {
      "cell_type": "code",
      "source": [
        "from sklearn.tree import DecisionTreeClassifier\n",
        "dc=DecisionTreeClassifier()\n",
        "dc.fit(xtrain,ytrain)\n",
        "p=dc.predict(y,ytest)\n",
        "\n",
        "\n",
        "from sklearn.metrics import accuracy_score\n",
        "a=accuracy_score(ytest,p)"
      ],
      "metadata": {
        "id": "0S_K7Qft0O_q"
      },
      "execution_count": null,
      "outputs": []
    },
    {
      "cell_type": "code",
      "source": [
        "from sklearn.tree import plot_tree\n",
        "import matplotlib.pyplot as plt\n",
        "plot_tree(dc,filled=True,fontsize=2)"
      ],
      "metadata": {
        "colab": {
          "base_uri": "https://localhost:8080/",
          "height": 1000
        },
        "id": "Np8YO_ve3vla",
        "outputId": "ed307079-3734-445f-d714-4de8e6af8482"
      },
      "execution_count": null,
      "outputs": [
        {
          "output_type": "execute_result",
          "data": {
            "text/plain": [
              "[Text(0.6171875, 0.9615384615384616, 'X[3] <= -0.642\\ngini = 0.449\\nsamples = 1209\\nvalue = [860, 52, 50, 247]'),\n",
              " Text(0.6032986111111112, 0.8846153846153846, 'gini = 0.0\\nsamples = 433\\nvalue = [433, 0, 0, 0]'),\n",
              " Text(0.6310763888888888, 0.8846153846153846, 'X[5] <= -0.612\\ngini = 0.587\\nsamples = 776\\nvalue = [427, 52, 50, 247]'),\n",
              " Text(0.6171875, 0.8076923076923077, 'gini = 0.0\\nsamples = 268\\nvalue = [268, 0, 0, 0]'),\n",
              " Text(0.6449652777777778, 0.8076923076923077, 'X[0] <= 0.0\\ngini = 0.645\\nsamples = 508\\nvalue = [159, 52, 50, 247]'),\n",
              " Text(0.4010416666666667, 0.7307692307692307, 'X[1] <= 0.0\\ngini = 0.663\\nsamples = 256\\nvalue = [27, 52, 50, 127]'),\n",
              " Text(0.2048611111111111, 0.6538461538461539, 'X[5] <= 0.612\\ngini = 0.684\\nsamples = 137\\nvalue = [5, 52, 38, 42]'),\n",
              " Text(0.08333333333333333, 0.5769230769230769, 'X[4] <= -0.612\\ngini = 0.524\\nsamples = 70\\nvalue = [2, 31, 0, 37]'),\n",
              " Text(0.041666666666666664, 0.5, 'X[2] <= -0.894\\ngini = 0.165\\nsamples = 22\\nvalue = [2, 0, 0, 20]'),\n",
              " Text(0.027777777777777776, 0.4230769230769231, 'X[3] <= 0.595\\ngini = 0.5\\nsamples = 4\\nvalue = [2, 0, 0, 2]'),\n",
              " Text(0.013888888888888888, 0.34615384615384615, 'gini = 0.0\\nsamples = 2\\nvalue = [0, 0, 0, 2]'),\n",
              " Text(0.041666666666666664, 0.34615384615384615, 'gini = 0.0\\nsamples = 2\\nvalue = [2, 0, 0, 0]'),\n",
              " Text(0.05555555555555555, 0.4230769230769231, 'gini = 0.0\\nsamples = 18\\nvalue = [0, 0, 0, 18]'),\n",
              " Text(0.125, 0.5, 'X[0] <= -0.894\\ngini = 0.457\\nsamples = 48\\nvalue = [0, 31, 0, 17]'),\n",
              " Text(0.08333333333333333, 0.4230769230769231, 'X[2] <= 0.0\\ngini = 0.311\\nsamples = 26\\nvalue = [0, 21, 0, 5]'),\n",
              " Text(0.06944444444444445, 0.34615384615384615, 'X[4] <= 0.612\\ngini = 0.486\\nsamples = 12\\nvalue = [0, 7, 0, 5]'),\n",
              " Text(0.05555555555555555, 0.2692307692307692, 'X[1] <= -0.894\\ngini = 0.278\\nsamples = 6\\nvalue = [0, 1, 0, 5]'),\n",
              " Text(0.041666666666666664, 0.19230769230769232, 'gini = 0.0\\nsamples = 3\\nvalue = [0, 0, 0, 3]'),\n",
              " Text(0.06944444444444445, 0.19230769230769232, 'X[3] <= 0.595\\ngini = 0.444\\nsamples = 3\\nvalue = [0, 1, 0, 2]'),\n",
              " Text(0.05555555555555555, 0.11538461538461539, 'gini = 0.0\\nsamples = 1\\nvalue = [0, 0, 0, 1]'),\n",
              " Text(0.08333333333333333, 0.11538461538461539, 'X[2] <= -0.894\\ngini = 0.5\\nsamples = 2\\nvalue = [0, 1, 0, 1]'),\n",
              " Text(0.06944444444444445, 0.038461538461538464, 'gini = 0.0\\nsamples = 1\\nvalue = [0, 0, 0, 1]'),\n",
              " Text(0.09722222222222222, 0.038461538461538464, 'gini = 0.0\\nsamples = 1\\nvalue = [0, 1, 0, 0]'),\n",
              " Text(0.08333333333333333, 0.2692307692307692, 'gini = 0.0\\nsamples = 6\\nvalue = [0, 6, 0, 0]'),\n",
              " Text(0.09722222222222222, 0.34615384615384615, 'gini = 0.0\\nsamples = 14\\nvalue = [0, 14, 0, 0]'),\n",
              " Text(0.16666666666666666, 0.4230769230769231, 'X[1] <= -0.894\\ngini = 0.496\\nsamples = 22\\nvalue = [0, 10, 0, 12]'),\n",
              " Text(0.1527777777777778, 0.34615384615384615, 'X[3] <= 0.595\\ngini = 0.278\\nsamples = 12\\nvalue = [0, 10, 0, 2]'),\n",
              " Text(0.1388888888888889, 0.2692307692307692, 'X[2] <= 0.0\\ngini = 0.48\\nsamples = 5\\nvalue = [0, 3, 0, 2]'),\n",
              " Text(0.125, 0.19230769230769232, 'X[4] <= 0.612\\ngini = 0.444\\nsamples = 3\\nvalue = [0, 1, 0, 2]'),\n",
              " Text(0.1111111111111111, 0.11538461538461539, 'gini = 0.0\\nsamples = 2\\nvalue = [0, 0, 0, 2]'),\n",
              " Text(0.1388888888888889, 0.11538461538461539, 'gini = 0.0\\nsamples = 1\\nvalue = [0, 1, 0, 0]'),\n",
              " Text(0.1527777777777778, 0.19230769230769232, 'gini = 0.0\\nsamples = 2\\nvalue = [0, 2, 0, 0]'),\n",
              " Text(0.16666666666666666, 0.2692307692307692, 'gini = 0.0\\nsamples = 7\\nvalue = [0, 7, 0, 0]'),\n",
              " Text(0.18055555555555555, 0.34615384615384615, 'gini = 0.0\\nsamples = 10\\nvalue = [0, 0, 0, 10]'),\n",
              " Text(0.3263888888888889, 0.5769230769230769, 'X[4] <= -0.612\\ngini = 0.573\\nsamples = 67\\nvalue = [3, 21, 38, 5]'),\n",
              " Text(0.25, 0.5, 'X[2] <= -0.894\\ngini = 0.482\\nsamples = 19\\nvalue = [3, 13, 0, 3]'),\n",
              " Text(0.2222222222222222, 0.4230769230769231, 'X[3] <= 0.595\\ngini = 0.48\\nsamples = 5\\nvalue = [3, 2, 0, 0]'),\n",
              " Text(0.20833333333333334, 0.34615384615384615, 'gini = 0.0\\nsamples = 2\\nvalue = [0, 2, 0, 0]'),\n",
              " Text(0.2361111111111111, 0.34615384615384615, 'gini = 0.0\\nsamples = 3\\nvalue = [3, 0, 0, 0]'),\n",
              " Text(0.2777777777777778, 0.4230769230769231, 'X[1] <= -0.894\\ngini = 0.337\\nsamples = 14\\nvalue = [0, 11, 0, 3]'),\n",
              " Text(0.2638888888888889, 0.34615384615384615, 'gini = 0.0\\nsamples = 9\\nvalue = [0, 9, 0, 0]'),\n",
              " Text(0.2916666666666667, 0.34615384615384615, 'X[0] <= -0.894\\ngini = 0.48\\nsamples = 5\\nvalue = [0, 2, 0, 3]'),\n",
              " Text(0.2777777777777778, 0.2692307692307692, 'gini = 0.0\\nsamples = 2\\nvalue = [0, 2, 0, 0]'),\n",
              " Text(0.3055555555555556, 0.2692307692307692, 'gini = 0.0\\nsamples = 3\\nvalue = [0, 0, 0, 3]'),\n",
              " Text(0.4027777777777778, 0.5, 'X[4] <= 0.612\\ngini = 0.344\\nsamples = 48\\nvalue = [0, 8, 38, 2]'),\n",
              " Text(0.3888888888888889, 0.4230769230769231, 'X[2] <= -0.894\\ngini = 0.531\\nsamples = 25\\nvalue = [0, 8, 15, 2]'),\n",
              " Text(0.3472222222222222, 0.34615384615384615, 'X[1] <= -0.894\\ngini = 0.245\\nsamples = 7\\nvalue = [0, 6, 0, 1]'),\n",
              " Text(0.3333333333333333, 0.2692307692307692, 'gini = 0.0\\nsamples = 4\\nvalue = [0, 4, 0, 0]'),\n",
              " Text(0.3611111111111111, 0.2692307692307692, 'X[0] <= -0.894\\ngini = 0.444\\nsamples = 3\\nvalue = [0, 2, 0, 1]'),\n",
              " Text(0.3472222222222222, 0.19230769230769232, 'gini = 0.0\\nsamples = 2\\nvalue = [0, 2, 0, 0]'),\n",
              " Text(0.375, 0.19230769230769232, 'gini = 0.0\\nsamples = 1\\nvalue = [0, 0, 0, 1]'),\n",
              " Text(0.4305555555555556, 0.34615384615384615, 'X[2] <= 0.0\\ngini = 0.29\\nsamples = 18\\nvalue = [0, 2, 15, 1]'),\n",
              " Text(0.4166666666666667, 0.2692307692307692, 'X[3] <= 0.595\\ngini = 0.571\\nsamples = 7\\nvalue = [0, 2, 4, 1]'),\n",
              " Text(0.4027777777777778, 0.19230769230769232, 'X[1] <= -0.894\\ngini = 0.444\\nsamples = 3\\nvalue = [0, 2, 0, 1]'),\n",
              " Text(0.3888888888888889, 0.11538461538461539, 'gini = 0.0\\nsamples = 2\\nvalue = [0, 2, 0, 0]'),\n",
              " Text(0.4166666666666667, 0.11538461538461539, 'gini = 0.0\\nsamples = 1\\nvalue = [0, 0, 0, 1]'),\n",
              " Text(0.4305555555555556, 0.19230769230769232, 'gini = 0.0\\nsamples = 4\\nvalue = [0, 0, 4, 0]'),\n",
              " Text(0.4444444444444444, 0.2692307692307692, 'gini = 0.0\\nsamples = 11\\nvalue = [0, 0, 11, 0]'),\n",
              " Text(0.4166666666666667, 0.4230769230769231, 'gini = 0.0\\nsamples = 23\\nvalue = [0, 0, 23, 0]'),\n",
              " Text(0.5972222222222222, 0.6538461538461539, 'X[4] <= -0.612\\ngini = 0.445\\nsamples = 119\\nvalue = [22, 0, 12, 85]'),\n",
              " Text(0.5138888888888888, 0.5769230769230769, 'X[5] <= 0.612\\ngini = 0.498\\nsamples = 36\\nvalue = [19, 0, 0, 17]'),\n",
              " Text(0.4861111111111111, 0.5, 'X[0] <= -0.894\\ngini = 0.332\\nsamples = 19\\nvalue = [15, 0, 0, 4]'),\n",
              " Text(0.4722222222222222, 0.4230769230769231, 'X[1] <= 0.894\\ngini = 0.494\\nsamples = 9\\nvalue = [5, 0, 0, 4]'),\n",
              " Text(0.4583333333333333, 0.34615384615384615, 'gini = 0.0\\nsamples = 4\\nvalue = [0, 0, 0, 4]'),\n",
              " Text(0.4861111111111111, 0.34615384615384615, 'gini = 0.0\\nsamples = 5\\nvalue = [5, 0, 0, 0]'),\n",
              " Text(0.5, 0.4230769230769231, 'gini = 0.0\\nsamples = 10\\nvalue = [10, 0, 0, 0]'),\n",
              " Text(0.5416666666666666, 0.5, 'X[2] <= -0.894\\ngini = 0.36\\nsamples = 17\\nvalue = [4, 0, 0, 13]'),\n",
              " Text(0.5277777777777778, 0.4230769230769231, 'X[3] <= 0.595\\ngini = 0.444\\nsamples = 6\\nvalue = [4, 0, 0, 2]'),\n",
              " Text(0.5138888888888888, 0.34615384615384615, 'gini = 0.0\\nsamples = 2\\nvalue = [0, 0, 0, 2]'),\n",
              " Text(0.5416666666666666, 0.34615384615384615, 'gini = 0.0\\nsamples = 4\\nvalue = [4, 0, 0, 0]'),\n",
              " Text(0.5555555555555556, 0.4230769230769231, 'gini = 0.0\\nsamples = 11\\nvalue = [0, 0, 0, 11]'),\n",
              " Text(0.6805555555555556, 0.5769230769230769, 'X[1] <= 0.894\\ngini = 0.307\\nsamples = 83\\nvalue = [3, 0, 12, 68]'),\n",
              " Text(0.625, 0.5, 'X[5] <= 0.612\\ngini = 0.472\\nsamples = 42\\nvalue = [2, 0, 12, 28]'),\n",
              " Text(0.5833333333333334, 0.4230769230769231, 'X[2] <= -0.894\\ngini = 0.18\\nsamples = 20\\nvalue = [2, 0, 0, 18]'),\n",
              " Text(0.5694444444444444, 0.34615384615384615, 'X[0] <= -0.894\\ngini = 0.48\\nsamples = 5\\nvalue = [2, 0, 0, 3]'),\n",
              " Text(0.5555555555555556, 0.2692307692307692, 'gini = 0.0\\nsamples = 2\\nvalue = [0, 0, 0, 2]'),\n",
              " Text(0.5833333333333334, 0.2692307692307692, 'X[4] <= 0.612\\ngini = 0.444\\nsamples = 3\\nvalue = [2, 0, 0, 1]'),\n",
              " Text(0.5694444444444444, 0.19230769230769232, 'gini = 0.0\\nsamples = 2\\nvalue = [2, 0, 0, 0]'),\n",
              " Text(0.5972222222222222, 0.19230769230769232, 'gini = 0.0\\nsamples = 1\\nvalue = [0, 0, 0, 1]'),\n",
              " Text(0.5972222222222222, 0.34615384615384615, 'gini = 0.0\\nsamples = 15\\nvalue = [0, 0, 0, 15]'),\n",
              " Text(0.6666666666666666, 0.4230769230769231, 'X[0] <= -0.894\\ngini = 0.496\\nsamples = 22\\nvalue = [0, 0, 12, 10]'),\n",
              " Text(0.6527777777777778, 0.34615384615384615, 'X[4] <= 0.612\\ngini = 0.142\\nsamples = 13\\nvalue = [0, 0, 12, 1]'),\n",
              " Text(0.6388888888888888, 0.2692307692307692, 'X[2] <= 0.0\\ngini = 0.32\\nsamples = 5\\nvalue = [0, 0, 4, 1]'),\n",
              " Text(0.625, 0.19230769230769232, 'gini = 0.0\\nsamples = 1\\nvalue = [0, 0, 0, 1]'),\n",
              " Text(0.6527777777777778, 0.19230769230769232, 'gini = 0.0\\nsamples = 4\\nvalue = [0, 0, 4, 0]'),\n",
              " Text(0.6666666666666666, 0.2692307692307692, 'gini = 0.0\\nsamples = 8\\nvalue = [0, 0, 8, 0]'),\n",
              " Text(0.6805555555555556, 0.34615384615384615, 'gini = 0.0\\nsamples = 9\\nvalue = [0, 0, 0, 9]'),\n",
              " Text(0.7361111111111112, 0.5, 'X[2] <= -0.894\\ngini = 0.048\\nsamples = 41\\nvalue = [1, 0, 0, 40]'),\n",
              " Text(0.7222222222222222, 0.4230769230769231, 'X[3] <= 0.595\\ngini = 0.32\\nsamples = 5\\nvalue = [1, 0, 0, 4]'),\n",
              " Text(0.7083333333333334, 0.34615384615384615, 'X[4] <= 0.612\\ngini = 0.5\\nsamples = 2\\nvalue = [1, 0, 0, 1]'),\n",
              " Text(0.6944444444444444, 0.2692307692307692, 'gini = 0.0\\nsamples = 1\\nvalue = [1, 0, 0, 0]'),\n",
              " Text(0.7222222222222222, 0.2692307692307692, 'gini = 0.0\\nsamples = 1\\nvalue = [0, 0, 0, 1]'),\n",
              " Text(0.7361111111111112, 0.34615384615384615, 'gini = 0.0\\nsamples = 3\\nvalue = [0, 0, 0, 3]'),\n",
              " Text(0.75, 0.4230769230769231, 'gini = 0.0\\nsamples = 36\\nvalue = [0, 0, 0, 36]'),\n",
              " Text(0.8888888888888888, 0.7307692307692307, 'X[1] <= 0.0\\ngini = 0.499\\nsamples = 252\\nvalue = [132, 0, 0, 120]'),\n",
              " Text(0.8194444444444444, 0.6538461538461539, 'X[4] <= -0.612\\ngini = 0.379\\nsamples = 130\\nvalue = [33, 0, 0, 97]'),\n",
              " Text(0.7777777777777778, 0.5769230769230769, 'X[5] <= 0.612\\ngini = 0.495\\nsamples = 42\\nvalue = [23, 0, 0, 19]'),\n",
              " Text(0.7638888888888888, 0.5, 'gini = 0.0\\nsamples = 20\\nvalue = [20, 0, 0, 0]'),\n",
              " Text(0.7916666666666666, 0.5, 'X[2] <= -0.894\\ngini = 0.236\\nsamples = 22\\nvalue = [3, 0, 0, 19]'),\n",
              " Text(0.7777777777777778, 0.4230769230769231, 'X[3] <= 0.595\\ngini = 0.5\\nsamples = 6\\nvalue = [3, 0, 0, 3]'),\n",
              " Text(0.7638888888888888, 0.34615384615384615, 'gini = 0.0\\nsamples = 3\\nvalue = [0, 0, 0, 3]'),\n",
              " Text(0.7916666666666666, 0.34615384615384615, 'gini = 0.0\\nsamples = 3\\nvalue = [3, 0, 0, 0]'),\n",
              " Text(0.8055555555555556, 0.4230769230769231, 'gini = 0.0\\nsamples = 16\\nvalue = [0, 0, 0, 16]'),\n",
              " Text(0.8611111111111112, 0.5769230769230769, 'X[4] <= 0.612\\ngini = 0.201\\nsamples = 88\\nvalue = [10, 0, 0, 78]'),\n",
              " Text(0.8472222222222222, 0.5, 'X[5] <= 0.612\\ngini = 0.363\\nsamples = 42\\nvalue = [10, 0, 0, 32]'),\n",
              " Text(0.8333333333333334, 0.4230769230769231, 'X[2] <= 0.0\\ngini = 0.496\\nsamples = 22\\nvalue = [10, 0, 0, 12]'),\n",
              " Text(0.8194444444444444, 0.34615384615384615, 'X[3] <= 0.595\\ngini = 0.278\\nsamples = 12\\nvalue = [10, 0, 0, 2]'),\n",
              " Text(0.8055555555555556, 0.2692307692307692, 'gini = 0.0\\nsamples = 7\\nvalue = [7, 0, 0, 0]'),\n",
              " Text(0.8333333333333334, 0.2692307692307692, 'X[2] <= -0.894\\ngini = 0.48\\nsamples = 5\\nvalue = [3, 0, 0, 2]'),\n",
              " Text(0.8194444444444444, 0.19230769230769232, 'gini = 0.0\\nsamples = 3\\nvalue = [3, 0, 0, 0]'),\n",
              " Text(0.8472222222222222, 0.19230769230769232, 'gini = 0.0\\nsamples = 2\\nvalue = [0, 0, 0, 2]'),\n",
              " Text(0.8472222222222222, 0.34615384615384615, 'gini = 0.0\\nsamples = 10\\nvalue = [0, 0, 0, 10]'),\n",
              " Text(0.8611111111111112, 0.4230769230769231, 'gini = 0.0\\nsamples = 20\\nvalue = [0, 0, 0, 20]'),\n",
              " Text(0.875, 0.5, 'gini = 0.0\\nsamples = 46\\nvalue = [0, 0, 0, 46]'),\n",
              " Text(0.9583333333333334, 0.6538461538461539, 'X[1] <= 0.894\\ngini = 0.306\\nsamples = 122\\nvalue = [99, 0, 0, 23]'),\n",
              " Text(0.9444444444444444, 0.5769230769230769, 'X[0] <= 0.894\\ngini = 0.473\\nsamples = 60\\nvalue = [37, 0, 0, 23]'),\n",
              " Text(0.9305555555555556, 0.5, 'X[4] <= -0.612\\ngini = 0.293\\nsamples = 28\\nvalue = [5, 0, 0, 23]'),\n",
              " Text(0.8888888888888888, 0.4230769230769231, 'X[5] <= 0.612\\ngini = 0.49\\nsamples = 7\\nvalue = [4, 0, 0, 3]'),\n",
              " Text(0.875, 0.34615384615384615, 'gini = 0.0\\nsamples = 3\\nvalue = [3, 0, 0, 0]'),\n",
              " Text(0.9027777777777778, 0.34615384615384615, 'X[2] <= -0.894\\ngini = 0.375\\nsamples = 4\\nvalue = [1, 0, 0, 3]'),\n",
              " Text(0.8888888888888888, 0.2692307692307692, 'X[3] <= 0.595\\ngini = 0.5\\nsamples = 2\\nvalue = [1, 0, 0, 1]'),\n",
              " Text(0.875, 0.19230769230769232, 'gini = 0.0\\nsamples = 1\\nvalue = [0, 0, 0, 1]'),\n",
              " Text(0.9027777777777778, 0.19230769230769232, 'gini = 0.0\\nsamples = 1\\nvalue = [1, 0, 0, 0]'),\n",
              " Text(0.9166666666666666, 0.2692307692307692, 'gini = 0.0\\nsamples = 2\\nvalue = [0, 0, 0, 2]'),\n",
              " Text(0.9722222222222222, 0.4230769230769231, 'X[2] <= 0.0\\ngini = 0.091\\nsamples = 21\\nvalue = [1, 0, 0, 20]'),\n",
              " Text(0.9583333333333334, 0.34615384615384615, 'X[5] <= 0.612\\ngini = 0.165\\nsamples = 11\\nvalue = [1, 0, 0, 10]'),\n",
              " Text(0.9444444444444444, 0.2692307692307692, 'X[4] <= 0.612\\ngini = 0.32\\nsamples = 5\\nvalue = [1, 0, 0, 4]'),\n",
              " Text(0.9305555555555556, 0.19230769230769232, 'X[3] <= 0.595\\ngini = 0.5\\nsamples = 2\\nvalue = [1, 0, 0, 1]'),\n",
              " Text(0.9166666666666666, 0.11538461538461539, 'gini = 0.0\\nsamples = 1\\nvalue = [1, 0, 0, 0]'),\n",
              " Text(0.9444444444444444, 0.11538461538461539, 'gini = 0.0\\nsamples = 1\\nvalue = [0, 0, 0, 1]'),\n",
              " Text(0.9583333333333334, 0.19230769230769232, 'gini = 0.0\\nsamples = 3\\nvalue = [0, 0, 0, 3]'),\n",
              " Text(0.9722222222222222, 0.2692307692307692, 'gini = 0.0\\nsamples = 6\\nvalue = [0, 0, 0, 6]'),\n",
              " Text(0.9861111111111112, 0.34615384615384615, 'gini = 0.0\\nsamples = 10\\nvalue = [0, 0, 0, 10]'),\n",
              " Text(0.9583333333333334, 0.5, 'gini = 0.0\\nsamples = 32\\nvalue = [32, 0, 0, 0]'),\n",
              " Text(0.9722222222222222, 0.5769230769230769, 'gini = 0.0\\nsamples = 62\\nvalue = [62, 0, 0, 0]')]"
            ]
          },
          "metadata": {},
          "execution_count": 78
        },
        {
          "output_type": "display_data",
          "data": {
            "text/plain": [
              "<Figure size 432x288 with 1 Axes>"
            ],
            "image/png": "[encoded data removed]"
          },
          "metadata": {
            "needs_background": "light"
          }
        }
      ]
    },
    {
      "cell_type": "code",
      "source": [],
      "metadata": {
        "id": "f1_ltQss7rgZ"
      },
      "execution_count": null,
      "outputs": []
    }
  ]
}
