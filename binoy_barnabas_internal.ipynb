{
  "nbformat": 4,
  "nbformat_minor": 0,
  "metadata": {
    "colab": {
      "provenance": []
    },
    "kernelspec": {
      "name": "python3",
      "display_name": "Python 3"
    },
    "language_info": {
      "name": "python"
    }
  },
  "cells": [
    {
      "cell_type": "code",
      "execution_count": 1,
      "metadata": {
        "colab": {
          "base_uri": "https://localhost:8080/",
          "height": 130
        },
        "id": "xUPst1CkGo6H",
        "outputId": "6b22385c-710e-4f10-f8c6-42e228c1e28c"
      },
      "outputs": [
        {
          "output_type": "error",
          "ename": "SyntaxError",
          "evalue": "ignored",
          "traceback": [
            "\u001b[0;36m  File \u001b[0;32m\"<ipython-input-1-37699aefb0a9>\"\u001b[0;36m, line \u001b[0;32m8\u001b[0m\n\u001b[0;31m    outcome = dataset.transform(column=\"y\",dataset[:-1])\u001b[0m\n\u001b[0m                                          ^\u001b[0m\n\u001b[0;31mSyntaxError\u001b[0m\u001b[0;31m:\u001b[0m positional argument follows keyword argument\n"
          ]
        }
      ],
      "source": [
        "from Sklearn.preprocessing import train_test_split\n",
        "import pandas as pd\n",
        "\n",
        "dataset = pd.read_csv('diabetes.csv')\n",
        "\n",
        "data_transform = dataset.transform(drop='y',axis=1)\n",
        "\n",
        "outcome = dataset.transform(column=\"y\",dataset[:-1])\n",
        "\n",
        "X_train,X_test,Y_train,Y_test = train_test_split(data_transform)\n",
        "\n"
      ]
    }
  ]
}