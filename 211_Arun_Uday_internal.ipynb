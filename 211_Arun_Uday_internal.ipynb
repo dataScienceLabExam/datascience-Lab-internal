{
  "nbformat": 4,
  "nbformat_minor": 0,
  "metadata": {
    "colab": {
      "provenance": []
    },
    "kernelspec": {
      "name": "python3",
      "display_name": "Python 3"
    },
    "language_info": {
      "name": "python"
    }
  },
  "cells": [
    {
      "cell_type": "code",
      "execution_count": 220,
      "metadata": {
        "id": "ei6r1m5k585k"
      },
      "outputs": [],
      "source": [
        "import pandas as pd\n",
        "import keras\n",
        "from keras.layers import Dense\n",
        "from keras.models import Sequential\n",
        "import matplotlib.pyplot as plt\n",
        "from keras.optimizers import SGD\n",
        "import numpy as np\n",
        "import tensorflow as tf\n"
      ]
    },
    {
      "cell_type": "code",
      "source": [
        "da = pd.read_csv('/content/diabetes.csv')"
      ],
      "metadata": {
        "id": "c-xM4wB86AAp"
      },
      "execution_count": 38,
      "outputs": []
    },
    {
      "cell_type": "code",
      "source": [
        "da.head(5)"
      ],
      "metadata": {
        "colab": {
          "base_uri": "https://localhost:8080/",
          "height": 206
        },
        "id": "NO4oz4g-7-kL",
        "outputId": "dcd36026-1591-4d07-b835-3e21377c228d"
      },
      "execution_count": 50,
      "outputs": [
        {
          "output_type": "execute_result",
          "data": {
            "text/plain": [
              "   Pregnancies  Glucose  BloodPressure  SkinThickness  Insulin   BMI  \\\n",
              "0            6      148             72             35        0  33.6   \n",
              "1            1       85             66             29        0  26.6   \n",
              "2            8      183             64              0        0  23.3   \n",
              "3            1       89             66             23       94  28.1   \n",
              "4            0      137             40             35      168  43.1   \n",
              "\n",
              "   DiabetesPedigreeFunction  Age  Outcome  \n",
              "0                     0.627   50        1  \n",
              "1                     0.351   31        0  \n",
              "2                     0.672   32        1  \n",
              "3                     0.167   21        0  \n",
              "4                     2.288   33        1  "
            ],
            "text/html": [
              "\n",
              "  <div id=\"df-8039dc23-39bb-4519-bfb7-fbdfb9657f16\">\n",
              "    <div class=\"colab-df-container\">\n",
              "      <div>\n",
              "<style scoped>\n",
              "    .dataframe tbody tr th:only-of-type {\n",
              "        vertical-align: middle;\n",
              "    }\n",
              "\n",
              "    .dataframe tbody tr th {\n",
              "        vertical-align: top;\n",
              "    }\n",
              "\n",
              "    .dataframe thead th {\n",
              "        text-align: right;\n",
              "    }\n",
              "</style>\n",
              "<table border=\"1\" class=\"dataframe\">\n",
              "  <thead>\n",
              "    <tr style=\"text-align: right;\">\n",
              "      <th></th>\n",
              "      <th>Pregnancies</th>\n",
              "      <th>Glucose</th>\n",
              "      <th>BloodPressure</th>\n",
              "      <th>SkinThickness</th>\n",
              "      <th>Insulin</th>\n",
              "      <th>BMI</th>\n",
              "      <th>DiabetesPedigreeFunction</th>\n",
              "      <th>Age</th>\n",
              "      <th>Outcome</th>\n",
              "    </tr>\n",
              "  </thead>\n",
              "  <tbody>\n",
              "    <tr>\n",
              "      <th>0</th>\n",
              "      <td>6</td>\n",
              "      <td>148</td>\n",
              "      <td>72</td>\n",
              "      <td>35</td>\n",
              "      <td>0</td>\n",
              "      <td>33.6</td>\n",
              "      <td>0.627</td>\n",
              "      <td>50</td>\n",
              "      <td>1</td>\n",
              "    </tr>\n",
              "    <tr>\n",
              "      <th>1</th>\n",
              "      <td>1</td>\n",
              "      <td>85</td>\n",
              "      <td>66</td>\n",
              "      <td>29</td>\n",
              "      <td>0</td>\n",
              "      <td>26.6</td>\n",
              "      <td>0.351</td>\n",
              "      <td>31</td>\n",
              "      <td>0</td>\n",
              "    </tr>\n",
              "    <tr>\n",
              "      <th>2</th>\n",
              "      <td>8</td>\n",
              "      <td>183</td>\n",
              "      <td>64</td>\n",
              "      <td>0</td>\n",
              "      <td>0</td>\n",
              "      <td>23.3</td>\n",
              "      <td>0.672</td>\n",
              "      <td>32</td>\n",
              "      <td>1</td>\n",
              "    </tr>\n",
              "    <tr>\n",
              "      <th>3</th>\n",
              "      <td>1</td>\n",
              "      <td>89</td>\n",
              "      <td>66</td>\n",
              "      <td>23</td>\n",
              "      <td>94</td>\n",
              "      <td>28.1</td>\n",
              "      <td>0.167</td>\n",
              "      <td>21</td>\n",
              "      <td>0</td>\n",
              "    </tr>\n",
              "    <tr>\n",
              "      <th>4</th>\n",
              "      <td>0</td>\n",
              "      <td>137</td>\n",
              "      <td>40</td>\n",
              "      <td>35</td>\n",
              "      <td>168</td>\n",
              "      <td>43.1</td>\n",
              "      <td>2.288</td>\n",
              "      <td>33</td>\n",
              "      <td>1</td>\n",
              "    </tr>\n",
              "  </tbody>\n",
              "</table>\n",
              "</div>\n",
              "      <button class=\"colab-df-convert\" onclick=\"convertToInteractive('df-8039dc23-39bb-4519-bfb7-fbdfb9657f16')\"\n",
              "              title=\"Convert this dataframe to an interactive table.\"\n",
              "              style=\"display:none;\">\n",
              "        \n",
              "  <svg xmlns=\"http://www.w3.org/2000/svg\" height=\"24px\"viewBox=\"0 0 24 24\"\n",
              "       width=\"24px\">\n",
              "    <path d=\"M0 0h24v24H0V0z\" fill=\"none\"/>\n",
              "    <path d=\"M18.56 5.44l.94 2.06.94-2.06 2.06-.94-2.06-.94-.94-2.06-.94 2.06-2.06.94zm-11 1L8.5 8.5l.94-2.06 2.06-.94-2.06-.94L8.5 2.5l-.94 2.06-2.06.94zm10 10l.94 2.06.94-2.06 2.06-.94-2.06-.94-.94-2.06-.94 2.06-2.06.94z\"/><path d=\"M17.41 7.96l-1.37-1.37c-.4-.4-.92-.59-1.43-.59-.52 0-1.04.2-1.43.59L10.3 9.45l-7.72 7.72c-.78.78-.78 2.05 0 2.83L4 21.41c.39.39.9.59 1.41.59.51 0 1.02-.2 1.41-.59l7.78-7.78 2.81-2.81c.8-.78.8-2.07 0-2.86zM5.41 20L4 18.59l7.72-7.72 1.47 1.35L5.41 20z\"/>\n",
              "  </svg>\n",
              "      </button>\n",
              "      \n",
              "  <style>\n",
              "    .colab-df-container {\n",
              "      display:flex;\n",
              "      flex-wrap:wrap;\n",
              "      gap: 12px;\n",
              "    }\n",
              "\n",
              "    .colab-df-convert {\n",
              "      background-color: #E8F0FE;\n",
              "      border: none;\n",
              "      border-radius: 50%;\n",
              "      cursor: pointer;\n",
              "      display: none;\n",
              "      fill: #1967D2;\n",
              "      height: 32px;\n",
              "      padding: 0 0 0 0;\n",
              "      width: 32px;\n",
              "    }\n",
              "\n",
              "    .colab-df-convert:hover {\n",
              "      background-color: #E2EBFA;\n",
              "      box-shadow: 0px 1px 2px rgba(60, 64, 67, 0.3), 0px 1px 3px 1px rgba(60, 64, 67, 0.15);\n",
              "      fill: #174EA6;\n",
              "    }\n",
              "\n",
              "    [theme=dark] .colab-df-convert {\n",
              "      background-color: #3B4455;\n",
              "      fill: #D2E3FC;\n",
              "    }\n",
              "\n",
              "    [theme=dark] .colab-df-convert:hover {\n",
              "      background-color: #434B5C;\n",
              "      box-shadow: 0px 1px 3px 1px rgba(0, 0, 0, 0.15);\n",
              "      filter: drop-shadow(0px 1px 2px rgba(0, 0, 0, 0.3));\n",
              "      fill: #FFFFFF;\n",
              "    }\n",
              "  </style>\n",
              "\n",
              "      <script>\n",
              "        const buttonEl =\n",
              "          document.querySelector('#df-8039dc23-39bb-4519-bfb7-fbdfb9657f16 button.colab-df-convert');\n",
              "        buttonEl.style.display =\n",
              "          google.colab.kernel.accessAllowed ? 'block' : 'none';\n",
              "\n",
              "        async function convertToInteractive(key) {\n",
              "          const element = document.querySelector('#df-8039dc23-39bb-4519-bfb7-fbdfb9657f16');\n",
              "          const dataTable =\n",
              "            await google.colab.kernel.invokeFunction('convertToInteractive',\n",
              "                                                     [key], {});\n",
              "          if (!dataTable) return;\n",
              "\n",
              "          const docLinkHtml = 'Like what you see? Visit the ' +\n",
              "            '<a target=\"_blank\" href=https://colab.research.google.com/notebooks/data_table.ipynb>data table notebook</a>'\n",
              "            + ' to learn more about interactive tables.';\n",
              "          element.innerHTML = '';\n",
              "          dataTable['output_type'] = 'display_data';\n",
              "          await google.colab.output.renderOutput(dataTable, element);\n",
              "          const docLink = document.createElement('div');\n",
              "          docLink.innerHTML = docLinkHtml;\n",
              "          element.appendChild(docLink);\n",
              "        }\n",
              "      </script>\n",
              "    </div>\n",
              "  </div>\n",
              "  "
            ]
          },
          "metadata": {},
          "execution_count": 50
        }
      ]
    },
    {
      "cell_type": "code",
      "source": [
        "da.info()"
      ],
      "metadata": {
        "colab": {
          "base_uri": "https://localhost:8080/"
        },
        "id": "kCO_bszX8BOD",
        "outputId": "727e7982-0489-4013-a84b-e4684660bcd9"
      },
      "execution_count": 51,
      "outputs": [
        {
          "output_type": "stream",
          "name": "stdout",
          "text": [
            "<class 'pandas.core.frame.DataFrame'>\n",
            "RangeIndex: 768 entries, 0 to 767\n",
            "Data columns (total 9 columns):\n",
            " #   Column                    Non-Null Count  Dtype  \n",
            "---  ------                    --------------  -----  \n",
            " 0   Pregnancies               768 non-null    int64  \n",
            " 1   Glucose                   768 non-null    int64  \n",
            " 2   BloodPressure             768 non-null    int64  \n",
            " 3   SkinThickness             768 non-null    int64  \n",
            " 4   Insulin                   768 non-null    int64  \n",
            " 5   BMI                       768 non-null    float64\n",
            " 6   DiabetesPedigreeFunction  768 non-null    float64\n",
            " 7   Age                       768 non-null    int64  \n",
            " 8   Outcome                   768 non-null    int64  \n",
            "dtypes: float64(2), int64(7)\n",
            "memory usage: 54.1 KB\n"
          ]
        }
      ]
    },
    {
      "cell_type": "code",
      "source": [
        "da.iloc[1].head(10)"
      ],
      "metadata": {
        "colab": {
          "base_uri": "https://localhost:8080/"
        },
        "id": "b1pB_gX28En9",
        "outputId": "7aaff6d3-5dc8-4b89-ab1e-8d554b29fd7c"
      },
      "execution_count": 52,
      "outputs": [
        {
          "output_type": "execute_result",
          "data": {
            "text/plain": [
              "Pregnancies                  1.000\n",
              "Glucose                     85.000\n",
              "BloodPressure               66.000\n",
              "SkinThickness               29.000\n",
              "Insulin                      0.000\n",
              "BMI                         26.600\n",
              "DiabetesPedigreeFunction     0.351\n",
              "Age                         31.000\n",
              "Outcome                      0.000\n",
              "Name: 1, dtype: float64"
            ]
          },
          "metadata": {},
          "execution_count": 52
        }
      ]
    },
    {
      "cell_type": "code",
      "source": [
        "da.axes"
      ],
      "metadata": {
        "colab": {
          "base_uri": "https://localhost:8080/"
        },
        "id": "OJf_uOEb-Opf",
        "outputId": "f28562e6-ba45-496d-8d0b-bee32a06c6df"
      },
      "execution_count": 53,
      "outputs": [
        {
          "output_type": "execute_result",
          "data": {
            "text/plain": [
              "[RangeIndex(start=0, stop=768, step=1),\n",
              " Index(['Pregnancies', 'Glucose', 'BloodPressure', 'SkinThickness', 'Insulin',\n",
              "        'BMI', 'DiabetesPedigreeFunction', 'Age', 'Outcome'],\n",
              "       dtype='object')]"
            ]
          },
          "metadata": {},
          "execution_count": 53
        }
      ]
    },
    {
      "cell_type": "code",
      "source": [
        "da_c = da.copy()"
      ],
      "metadata": {
        "id": "Z3cgNdhl_W3m"
      },
      "execution_count": 54,
      "outputs": []
    },
    {
      "cell_type": "code",
      "source": [
        "columns = ['Pregnancies', 'Glucose', 'BloodPressure', 'SkinThickness', 'Insulin',\n",
        "        'BMI', 'DiabetesPedigreeFunction', 'Age']"
      ],
      "metadata": {
        "id": "neA5hO4nBZAX"
      },
      "execution_count": null,
      "outputs": []
    },
    {
      "cell_type": "code",
      "source": [
        "from sklearn.preprocessing import StandardScaler\n",
        "\n",
        "sc = StandardScaler()\n",
        "sc.fit(da.drop('Outcome',axis=1))\n",
        "scaled = sc.transform(da.drop('Outcome',axis=1))"
      ],
      "metadata": {
        "id": "Prlwid_BByDz"
      },
      "execution_count": 60,
      "outputs": []
    },
    {
      "cell_type": "code",
      "source": [
        "scaled"
      ],
      "metadata": {
        "colab": {
          "base_uri": "https://localhost:8080/"
        },
        "id": "CICmaCHICmIf",
        "outputId": "a7cc2a9d-53da-4cf4-a445-b39c5d6dc356"
      },
      "execution_count": 61,
      "outputs": [
        {
          "output_type": "execute_result",
          "data": {
            "text/plain": [
              "array([[ 0.63994726,  0.84832379,  0.14964075, ...,  0.20401277,\n",
              "         0.46849198,  1.4259954 ],\n",
              "       [-0.84488505, -1.12339636, -0.16054575, ..., -0.68442195,\n",
              "        -0.36506078, -0.19067191],\n",
              "       [ 1.23388019,  1.94372388, -0.26394125, ..., -1.10325546,\n",
              "         0.60439732, -0.10558415],\n",
              "       ...,\n",
              "       [ 0.3429808 ,  0.00330087,  0.14964075, ..., -0.73518964,\n",
              "        -0.68519336, -0.27575966],\n",
              "       [-0.84488505,  0.1597866 , -0.47073225, ..., -0.24020459,\n",
              "        -0.37110101,  1.17073215],\n",
              "       [-0.84488505, -0.8730192 ,  0.04624525, ..., -0.20212881,\n",
              "        -0.47378505, -0.87137393]])"
            ]
          },
          "metadata": {},
          "execution_count": 61
        }
      ]
    },
    {
      "cell_type": "code",
      "source": [
        "from sklearn.model_selection import train_test_split\n",
        "\n",
        "x = scaled\n",
        "y = da['Outcome']"
      ],
      "metadata": {
        "id": "SV5t_Fx5Crj9"
      },
      "execution_count": 62,
      "outputs": []
    },
    {
      "cell_type": "code",
      "source": [
        "x.shape"
      ],
      "metadata": {
        "colab": {
          "base_uri": "https://localhost:8080/"
        },
        "id": "QcmAkBtDCtHG",
        "outputId": "5ff0ffb1-1a16-4eea-f96b-bb71e0a63d81"
      },
      "execution_count": 64,
      "outputs": [
        {
          "output_type": "execute_result",
          "data": {
            "text/plain": [
              "(768, 8)"
            ]
          },
          "metadata": {},
          "execution_count": 64
        }
      ]
    },
    {
      "cell_type": "code",
      "source": [
        "y.shape"
      ],
      "metadata": {
        "colab": {
          "base_uri": "https://localhost:8080/"
        },
        "id": "hiObFIZECv56",
        "outputId": "f746d750-ddf5-4624-8e63-3a6af9c0d367"
      },
      "execution_count": 65,
      "outputs": [
        {
          "output_type": "execute_result",
          "data": {
            "text/plain": [
              "(768,)"
            ]
          },
          "metadata": {},
          "execution_count": 65
        }
      ]
    },
    {
      "cell_type": "code",
      "source": [
        "x_train, x_test, y_train, y_test = train_test_split(x, y, test_size = 0.3, random_state = 40)"
      ],
      "metadata": {
        "id": "_V1rce6-Cyhj"
      },
      "execution_count": 191,
      "outputs": []
    },
    {
      "cell_type": "code",
      "source": [
        "x_train.shape"
      ],
      "metadata": {
        "colab": {
          "base_uri": "https://localhost:8080/"
        },
        "id": "4lABbsPrC127",
        "outputId": "ab61c90b-aab5-416a-9704-2299c498c196"
      },
      "execution_count": 192,
      "outputs": [
        {
          "output_type": "execute_result",
          "data": {
            "text/plain": [
              "(537, 8)"
            ]
          },
          "metadata": {},
          "execution_count": 192
        }
      ]
    },
    {
      "cell_type": "code",
      "source": [
        "y_train.shape"
      ],
      "metadata": {
        "colab": {
          "base_uri": "https://localhost:8080/"
        },
        "id": "3kWd57nSC6Pb",
        "outputId": "3348a479-a247-4dca-d3a0-47b5f5d78a5c"
      },
      "execution_count": 193,
      "outputs": [
        {
          "output_type": "execute_result",
          "data": {
            "text/plain": [
              "(537,)"
            ]
          },
          "metadata": {},
          "execution_count": 193
        }
      ]
    },
    {
      "cell_type": "code",
      "source": [
        "model = Sequential()\n",
        "model.add(Dense(64, activation = \"relu\"))\n",
        "model.add(Dense(1, activation = \"softmax\"))\n",
        "model.build(x_train.shape)\n",
        "model.summary()"
      ],
      "metadata": {
        "colab": {
          "base_uri": "https://localhost:8080/"
        },
        "id": "YvcGD2PPDfEB",
        "outputId": "0dccc243-00ef-4dca-cc2e-2d5d580c83a5"
      },
      "execution_count": 303,
      "outputs": [
        {
          "output_type": "stream",
          "name": "stdout",
          "text": [
            "Model: \"sequential_36\"\n",
            "_________________________________________________________________\n",
            " Layer (type)                Output Shape              Param #   \n",
            "=================================================================\n",
            " dense_69 (Dense)            (537, 64)                 576       \n",
            "                                                                 \n",
            " dense_70 (Dense)            (537, 1)                  65        \n",
            "                                                                 \n",
            "=================================================================\n",
            "Total params: 641\n",
            "Trainable params: 641\n",
            "Non-trainable params: 0\n",
            "_________________________________________________________________\n"
          ]
        }
      ]
    },
    {
      "cell_type": "code",
      "source": [
        "from keras.optimizers.optimizer_v1 import Adam\n",
        "model.compile(optimizer=tf.keras.optimizers.Adam(learning_rate=1e-3), loss=\"MeanSquaredError\", metrics=['accuracy'])"
      ],
      "metadata": {
        "id": "zCqoAHvkGFKk"
      },
      "execution_count": 304,
      "outputs": []
    },
    {
      "cell_type": "code",
      "source": [
        "x_train"
      ],
      "metadata": {
        "colab": {
          "base_uri": "https://localhost:8080/"
        },
        "id": "CGa6tUKKJxga",
        "outputId": "d50d4547-ba9d-4c27-c7b1-27df717229e8"
      },
      "execution_count": 305,
      "outputs": [
        {
          "output_type": "execute_result",
          "data": {
            "text/plain": [
              "array([[ 0.3429808 ,  0.47275805,  0.77001375, ...,  0.38169971,\n",
              "        -0.56136849,  0.14967911],\n",
              "       [-0.25095213,  2.06891246,  0.04624525, ...,  0.55938666,\n",
              "        -0.19291401,  0.23476686],\n",
              "       [-0.84488505,  1.88112959,  0.45982725, ...,  1.01629594,\n",
              "         2.37418686, -0.95646168],\n",
              "       ...,\n",
              "       [ 1.82781311, -0.184482  , -3.57259724, ...,  0.41977549,\n",
              "        -1.02042653, -0.36084741],\n",
              "       [ 0.3429808 , -0.27837344, -0.16054575, ...,  0.7370736 ,\n",
              "        -0.63687146,  0.66020563],\n",
              "       [-0.84488505,  0.03459802, -0.26394125, ...,  0.39439164,\n",
              "         0.66479969, -0.27575966]])"
            ]
          },
          "metadata": {},
          "execution_count": 305
        }
      ]
    },
    {
      "cell_type": "code",
      "source": [
        "y_train.shape"
      ],
      "metadata": {
        "colab": {
          "base_uri": "https://localhost:8080/"
        },
        "id": "FC0QfeF5LoM9",
        "outputId": "18c30ece-29be-4b08-f04e-6dc2524b251f"
      },
      "execution_count": 306,
      "outputs": [
        {
          "output_type": "execute_result",
          "data": {
            "text/plain": [
              "(537,)"
            ]
          },
          "metadata": {},
          "execution_count": 306
        }
      ]
    },
    {
      "cell_type": "code",
      "source": [
        "history = model.fit(x_train, y_train, batch_size = 14, epochs = 50)"
      ],
      "metadata": {
        "colab": {
          "base_uri": "https://localhost:8080/"
        },
        "id": "bWeE9wzWFr5Y",
        "outputId": "3d402c95-541d-4248-e5d7-7ec2342f2fc3"
      },
      "execution_count": 307,
      "outputs": [
        {
          "output_type": "stream",
          "name": "stdout",
          "text": [
            "Epoch 1/50\n",
            "39/39 [==============================] - 0s 2ms/step - loss: 0.6667 - accuracy: 0.3333\n",
            "Epoch 2/50\n",
            "39/39 [==============================] - 0s 2ms/step - loss: 0.6667 - accuracy: 0.3333\n",
            "Epoch 3/50\n",
            "39/39 [==============================] - 0s 2ms/step - loss: 0.6667 - accuracy: 0.3333\n",
            "Epoch 4/50\n",
            "39/39 [==============================] - 0s 2ms/step - loss: 0.6667 - accuracy: 0.3333\n",
            "Epoch 5/50\n",
            "39/39 [==============================] - 0s 2ms/step - loss: 0.6667 - accuracy: 0.3333\n",
            "Epoch 6/50\n",
            "39/39 [==============================] - 0s 2ms/step - loss: 0.6667 - accuracy: 0.3333\n",
            "Epoch 7/50\n",
            "39/39 [==============================] - 0s 2ms/step - loss: 0.6667 - accuracy: 0.3333\n",
            "Epoch 8/50\n",
            "39/39 [==============================] - 0s 2ms/step - loss: 0.6667 - accuracy: 0.3333\n",
            "Epoch 9/50\n",
            "39/39 [==============================] - 0s 2ms/step - loss: 0.6667 - accuracy: 0.3333\n",
            "Epoch 10/50\n",
            "39/39 [==============================] - 0s 2ms/step - loss: 0.6667 - accuracy: 0.3333\n",
            "Epoch 11/50\n",
            "39/39 [==============================] - 0s 2ms/step - loss: 0.6667 - accuracy: 0.3333\n",
            "Epoch 12/50\n",
            "39/39 [==============================] - 0s 2ms/step - loss: 0.6667 - accuracy: 0.3333\n",
            "Epoch 13/50\n",
            "39/39 [==============================] - 0s 2ms/step - loss: 0.6667 - accuracy: 0.3333\n",
            "Epoch 14/50\n",
            "39/39 [==============================] - 0s 2ms/step - loss: 0.6667 - accuracy: 0.3333\n",
            "Epoch 15/50\n",
            "39/39 [==============================] - 0s 2ms/step - loss: 0.6667 - accuracy: 0.3333\n",
            "Epoch 16/50\n",
            "39/39 [==============================] - 0s 2ms/step - loss: 0.6667 - accuracy: 0.3333\n",
            "Epoch 17/50\n",
            "39/39 [==============================] - 0s 2ms/step - loss: 0.6667 - accuracy: 0.3333\n",
            "Epoch 18/50\n",
            "39/39 [==============================] - 0s 2ms/step - loss: 0.6667 - accuracy: 0.3333\n",
            "Epoch 19/50\n",
            "39/39 [==============================] - 0s 2ms/step - loss: 0.6667 - accuracy: 0.3333\n",
            "Epoch 20/50\n",
            "39/39 [==============================] - 0s 2ms/step - loss: 0.6667 - accuracy: 0.3333\n",
            "Epoch 21/50\n",
            "39/39 [==============================] - 0s 2ms/step - loss: 0.6667 - accuracy: 0.3333\n",
            "Epoch 22/50\n",
            "39/39 [==============================] - 0s 2ms/step - loss: 0.6667 - accuracy: 0.3333\n",
            "Epoch 23/50\n",
            "39/39 [==============================] - 0s 2ms/step - loss: 0.6667 - accuracy: 0.3333\n",
            "Epoch 24/50\n",
            "39/39 [==============================] - 0s 2ms/step - loss: 0.6667 - accuracy: 0.3333\n",
            "Epoch 25/50\n",
            "39/39 [==============================] - 0s 2ms/step - loss: 0.6667 - accuracy: 0.3333\n",
            "Epoch 26/50\n",
            "39/39 [==============================] - 0s 2ms/step - loss: 0.6667 - accuracy: 0.3333\n",
            "Epoch 27/50\n",
            "39/39 [==============================] - 0s 2ms/step - loss: 0.6667 - accuracy: 0.3333\n",
            "Epoch 28/50\n",
            "39/39 [==============================] - 0s 2ms/step - loss: 0.6667 - accuracy: 0.3333\n",
            "Epoch 29/50\n",
            "39/39 [==============================] - 0s 2ms/step - loss: 0.6667 - accuracy: 0.3333\n",
            "Epoch 30/50\n",
            "39/39 [==============================] - 0s 2ms/step - loss: 0.6667 - accuracy: 0.3333\n",
            "Epoch 31/50\n",
            "39/39 [==============================] - 0s 2ms/step - loss: 0.6667 - accuracy: 0.3333\n",
            "Epoch 32/50\n",
            "39/39 [==============================] - 0s 2ms/step - loss: 0.6667 - accuracy: 0.3333\n",
            "Epoch 33/50\n",
            "39/39 [==============================] - 0s 2ms/step - loss: 0.6667 - accuracy: 0.3333\n",
            "Epoch 34/50\n",
            "39/39 [==============================] - 0s 2ms/step - loss: 0.6667 - accuracy: 0.3333\n",
            "Epoch 35/50\n",
            "39/39 [==============================] - 0s 2ms/step - loss: 0.6667 - accuracy: 0.3333\n",
            "Epoch 36/50\n",
            "39/39 [==============================] - 0s 2ms/step - loss: 0.6667 - accuracy: 0.3333\n",
            "Epoch 37/50\n",
            "39/39 [==============================] - 0s 2ms/step - loss: 0.6667 - accuracy: 0.3333\n",
            "Epoch 38/50\n",
            "39/39 [==============================] - 0s 2ms/step - loss: 0.6667 - accuracy: 0.3333\n",
            "Epoch 39/50\n",
            "39/39 [==============================] - 0s 2ms/step - loss: 0.6667 - accuracy: 0.3333\n",
            "Epoch 40/50\n",
            "39/39 [==============================] - 0s 2ms/step - loss: 0.6667 - accuracy: 0.3333\n",
            "Epoch 41/50\n",
            "39/39 [==============================] - 0s 2ms/step - loss: 0.6667 - accuracy: 0.3333\n",
            "Epoch 42/50\n",
            "39/39 [==============================] - 0s 2ms/step - loss: 0.6667 - accuracy: 0.3333\n",
            "Epoch 43/50\n",
            "39/39 [==============================] - 0s 2ms/step - loss: 0.6667 - accuracy: 0.3333\n",
            "Epoch 44/50\n",
            "39/39 [==============================] - 0s 2ms/step - loss: 0.6667 - accuracy: 0.3333\n",
            "Epoch 45/50\n",
            "39/39 [==============================] - 0s 2ms/step - loss: 0.6667 - accuracy: 0.3333\n",
            "Epoch 46/50\n",
            "39/39 [==============================] - 0s 2ms/step - loss: 0.6667 - accuracy: 0.3333\n",
            "Epoch 47/50\n",
            "39/39 [==============================] - 0s 2ms/step - loss: 0.6667 - accuracy: 0.3333\n",
            "Epoch 48/50\n",
            "39/39 [==============================] - 0s 2ms/step - loss: 0.6667 - accuracy: 0.3333\n",
            "Epoch 49/50\n",
            "39/39 [==============================] - 0s 2ms/step - loss: 0.6667 - accuracy: 0.3333\n",
            "Epoch 50/50\n",
            "39/39 [==============================] - 0s 2ms/step - loss: 0.6667 - accuracy: 0.3333\n"
          ]
        }
      ]
    },
    {
      "cell_type": "code",
      "source": [
        "pred = model.predict(x_test)"
      ],
      "metadata": {
        "colab": {
          "base_uri": "https://localhost:8080/"
        },
        "id": "iM4Mlxr6FXFO",
        "outputId": "cce4b050-2659-4d60-e38e-c7aa2669e742"
      },
      "execution_count": 308,
      "outputs": [
        {
          "output_type": "stream",
          "name": "stdout",
          "text": [
            "8/8 [==============================] - 0s 2ms/step\n"
          ]
        }
      ]
    },
    {
      "cell_type": "code",
      "source": [
        "pred"
      ],
      "metadata": {
        "colab": {
          "base_uri": "https://localhost:8080/"
        },
        "id": "fbH4L237IHTL",
        "outputId": "741020ae-4b7c-4583-85e3-eb4ebb777cf5"
      },
      "execution_count": 309,
      "outputs": [
        {
          "output_type": "execute_result",
          "data": {
            "text/plain": [
              "array([[0.99999994],\n",
              "       [0.99999994],\n",
              "       [0.99999994],\n",
              "       [0.99999994],\n",
              "       [0.99999994],\n",
              "       [0.99999994],\n",
              "       [0.99999994],\n",
              "       [0.99999994],\n",
              "       [0.99999994],\n",
              "       [0.99999994],\n",
              "       [0.99999994],\n",
              "       [0.99999994],\n",
              "       [0.99999994],\n",
              "       [0.99999994],\n",
              "       [0.99999994],\n",
              "       [0.99999994],\n",
              "       [0.99999994],\n",
              "       [0.99999994],\n",
              "       [0.99999994],\n",
              "       [0.99999994],\n",
              "       [0.99999994],\n",
              "       [0.99999994],\n",
              "       [0.99999994],\n",
              "       [0.99999994],\n",
              "       [0.99999994],\n",
              "       [0.99999994],\n",
              "       [0.99999994],\n",
              "       [0.99999994],\n",
              "       [0.99999994],\n",
              "       [0.99999994],\n",
              "       [0.99999994],\n",
              "       [0.99999994],\n",
              "       [0.99999994],\n",
              "       [0.99999994],\n",
              "       [0.99999994],\n",
              "       [0.99999994],\n",
              "       [0.99999994],\n",
              "       [0.99999994],\n",
              "       [0.99999994],\n",
              "       [0.99999994],\n",
              "       [0.99999994],\n",
              "       [0.99999994],\n",
              "       [0.99999994],\n",
              "       [0.99999994],\n",
              "       [0.99999994],\n",
              "       [0.99999994],\n",
              "       [0.99999994],\n",
              "       [0.99999994],\n",
              "       [0.99999994],\n",
              "       [0.99999994],\n",
              "       [0.99999994],\n",
              "       [0.99999994],\n",
              "       [0.99999994],\n",
              "       [0.99999994],\n",
              "       [0.99999994],\n",
              "       [0.99999994],\n",
              "       [0.99999994],\n",
              "       [0.99999994],\n",
              "       [0.99999994],\n",
              "       [0.99999994],\n",
              "       [0.99999994],\n",
              "       [0.99999994],\n",
              "       [0.99999994],\n",
              "       [0.99999994],\n",
              "       [0.99999994],\n",
              "       [0.99999994],\n",
              "       [0.99999994],\n",
              "       [0.99999994],\n",
              "       [0.99999994],\n",
              "       [0.99999994],\n",
              "       [0.99999994],\n",
              "       [0.99999994],\n",
              "       [0.99999994],\n",
              "       [0.99999994],\n",
              "       [0.99999994],\n",
              "       [0.99999994],\n",
              "       [0.99999994],\n",
              "       [0.99999994],\n",
              "       [0.99999994],\n",
              "       [0.99999994],\n",
              "       [0.99999994],\n",
              "       [0.99999994],\n",
              "       [0.99999994],\n",
              "       [0.99999994],\n",
              "       [0.99999994],\n",
              "       [0.99999994],\n",
              "       [0.99999994],\n",
              "       [0.99999994],\n",
              "       [0.99999994],\n",
              "       [0.99999994],\n",
              "       [0.99999994],\n",
              "       [0.99999994],\n",
              "       [0.99999994],\n",
              "       [0.99999994],\n",
              "       [0.99999994],\n",
              "       [0.99999994],\n",
              "       [0.99999994],\n",
              "       [0.99999994],\n",
              "       [0.99999994],\n",
              "       [0.99999994],\n",
              "       [0.99999994],\n",
              "       [0.99999994],\n",
              "       [0.99999994],\n",
              "       [0.99999994],\n",
              "       [0.99999994],\n",
              "       [0.99999994],\n",
              "       [0.99999994],\n",
              "       [0.99999994],\n",
              "       [0.99999994],\n",
              "       [0.99999994],\n",
              "       [0.99999994],\n",
              "       [0.99999994],\n",
              "       [0.99999994],\n",
              "       [0.99999994],\n",
              "       [0.99999994],\n",
              "       [0.99999994],\n",
              "       [0.99999994],\n",
              "       [0.99999994],\n",
              "       [0.99999994],\n",
              "       [0.99999994],\n",
              "       [0.99999994],\n",
              "       [0.99999994],\n",
              "       [0.99999994],\n",
              "       [0.99999994],\n",
              "       [0.99999994],\n",
              "       [0.99999994],\n",
              "       [0.99999994],\n",
              "       [0.99999994],\n",
              "       [0.99999994],\n",
              "       [0.99999994],\n",
              "       [0.99999994],\n",
              "       [0.99999994],\n",
              "       [0.99999994],\n",
              "       [0.99999994],\n",
              "       [0.99999994],\n",
              "       [0.99999994],\n",
              "       [0.99999994],\n",
              "       [0.99999994],\n",
              "       [0.99999994],\n",
              "       [0.99999994],\n",
              "       [0.99999994],\n",
              "       [0.99999994],\n",
              "       [0.99999994],\n",
              "       [0.99999994],\n",
              "       [0.99999994],\n",
              "       [0.99999994],\n",
              "       [0.99999994],\n",
              "       [0.99999994],\n",
              "       [0.99999994],\n",
              "       [0.99999994],\n",
              "       [0.99999994],\n",
              "       [0.99999994],\n",
              "       [0.99999994],\n",
              "       [0.99999994],\n",
              "       [0.99999994],\n",
              "       [0.99999994],\n",
              "       [0.99999994],\n",
              "       [0.99999994],\n",
              "       [0.99999994],\n",
              "       [0.99999994],\n",
              "       [0.99999994],\n",
              "       [0.99999994],\n",
              "       [0.99999994],\n",
              "       [0.99999994],\n",
              "       [0.99999994],\n",
              "       [0.99999994],\n",
              "       [0.99999994],\n",
              "       [0.99999994],\n",
              "       [0.99999994],\n",
              "       [0.99999994],\n",
              "       [0.99999994],\n",
              "       [0.99999994],\n",
              "       [0.99999994],\n",
              "       [0.99999994],\n",
              "       [0.99999994],\n",
              "       [0.99999994],\n",
              "       [0.99999994],\n",
              "       [0.99999994],\n",
              "       [0.99999994],\n",
              "       [0.99999994],\n",
              "       [0.99999994],\n",
              "       [0.99999994],\n",
              "       [0.99999994],\n",
              "       [0.99999994],\n",
              "       [0.99999994],\n",
              "       [0.99999994],\n",
              "       [0.99999994],\n",
              "       [0.99999994],\n",
              "       [0.99999994],\n",
              "       [0.99999994],\n",
              "       [0.99999994],\n",
              "       [0.99999994],\n",
              "       [0.99999994],\n",
              "       [0.99999994],\n",
              "       [0.99999994],\n",
              "       [0.99999994],\n",
              "       [0.99999994],\n",
              "       [0.99999994],\n",
              "       [0.99999994],\n",
              "       [0.99999994],\n",
              "       [0.99999994],\n",
              "       [0.99999994],\n",
              "       [0.99999994],\n",
              "       [0.99999994],\n",
              "       [0.99999994],\n",
              "       [0.99999994],\n",
              "       [0.99999994],\n",
              "       [0.99999994],\n",
              "       [0.99999994],\n",
              "       [0.99999994],\n",
              "       [0.99999994],\n",
              "       [0.99999994],\n",
              "       [0.99999994],\n",
              "       [0.99999994],\n",
              "       [0.99999994],\n",
              "       [0.99999994],\n",
              "       [0.99999994],\n",
              "       [0.99999994],\n",
              "       [0.99999994],\n",
              "       [0.99999994],\n",
              "       [0.99999994],\n",
              "       [0.99999994],\n",
              "       [0.99999994],\n",
              "       [0.99999994],\n",
              "       [1.        ],\n",
              "       [1.        ],\n",
              "       [1.        ],\n",
              "       [1.        ],\n",
              "       [1.        ],\n",
              "       [1.        ],\n",
              "       [1.        ]], dtype=float32)"
            ]
          },
          "metadata": {},
          "execution_count": 309
        }
      ]
    },
    {
      "cell_type": "code",
      "source": [
        "from sklearn.metrics import confusion_matrix, accuracy_score\n",
        "\n",
        "print(confusion_matrix(y_test, pred))\n",
        "print(accuracy_score(y_test, pred))"
      ],
      "metadata": {
        "colab": {
          "base_uri": "https://localhost:8080/",
          "height": 378
        },
        "id": "ZNbFh_fb74M1",
        "outputId": "966853b9-adca-42bf-c3f6-50200ce362a2"
      },
      "execution_count": 287,
      "outputs": [
        {
          "output_type": "error",
          "ename": "ValueError",
          "evalue": "ignored",
          "traceback": [
            "\u001b[0;31m---------------------------------------------------------------------------\u001b[0m",
            "\u001b[0;31mValueError\u001b[0m                                Traceback (most recent call last)",
            "\u001b[0;32m<ipython-input-287-648cc8a37cbd>\u001b[0m in \u001b[0;36m<module>\u001b[0;34m\u001b[0m\n\u001b[1;32m      1\u001b[0m \u001b[0;32mfrom\u001b[0m \u001b[0msklearn\u001b[0m\u001b[0;34m.\u001b[0m\u001b[0mmetrics\u001b[0m \u001b[0;32mimport\u001b[0m \u001b[0mconfusion_matrix\u001b[0m\u001b[0;34m,\u001b[0m \u001b[0maccuracy_score\u001b[0m\u001b[0;34m\u001b[0m\u001b[0;34m\u001b[0m\u001b[0m\n\u001b[1;32m      2\u001b[0m \u001b[0;34m\u001b[0m\u001b[0m\n\u001b[0;32m----> 3\u001b[0;31m \u001b[0mprint\u001b[0m\u001b[0;34m(\u001b[0m\u001b[0mconfusion_matrix\u001b[0m\u001b[0;34m(\u001b[0m\u001b[0my_test\u001b[0m\u001b[0;34m,\u001b[0m \u001b[0mpred\u001b[0m\u001b[0;34m)\u001b[0m\u001b[0;34m)\u001b[0m\u001b[0;34m\u001b[0m\u001b[0;34m\u001b[0m\u001b[0m\n\u001b[0m\u001b[1;32m      4\u001b[0m \u001b[0mprint\u001b[0m\u001b[0;34m(\u001b[0m\u001b[0maccuracy_score\u001b[0m\u001b[0;34m(\u001b[0m\u001b[0my_test\u001b[0m\u001b[0;34m,\u001b[0m \u001b[0mpred\u001b[0m\u001b[0;34m)\u001b[0m\u001b[0;34m)\u001b[0m\u001b[0;34m\u001b[0m\u001b[0;34m\u001b[0m\u001b[0m\n",
            "\u001b[0;32m/usr/local/lib/python3.7/dist-packages/sklearn/metrics/_classification.py\u001b[0m in \u001b[0;36mconfusion_matrix\u001b[0;34m(y_true, y_pred, labels, sample_weight, normalize)\u001b[0m\n\u001b[1;32m    305\u001b[0m     \u001b[0;34m(\u001b[0m\u001b[0;36m0\u001b[0m\u001b[0;34m,\u001b[0m \u001b[0;36m2\u001b[0m\u001b[0;34m,\u001b[0m \u001b[0;36m1\u001b[0m\u001b[0;34m,\u001b[0m \u001b[0;36m1\u001b[0m\u001b[0;34m)\u001b[0m\u001b[0;34m\u001b[0m\u001b[0;34m\u001b[0m\u001b[0m\n\u001b[1;32m    306\u001b[0m     \"\"\"\n\u001b[0;32m--> 307\u001b[0;31m     \u001b[0my_type\u001b[0m\u001b[0;34m,\u001b[0m \u001b[0my_true\u001b[0m\u001b[0;34m,\u001b[0m \u001b[0my_pred\u001b[0m \u001b[0;34m=\u001b[0m \u001b[0m_check_targets\u001b[0m\u001b[0;34m(\u001b[0m\u001b[0my_true\u001b[0m\u001b[0;34m,\u001b[0m \u001b[0my_pred\u001b[0m\u001b[0;34m)\u001b[0m\u001b[0;34m\u001b[0m\u001b[0;34m\u001b[0m\u001b[0m\n\u001b[0m\u001b[1;32m    308\u001b[0m     \u001b[0;32mif\u001b[0m \u001b[0my_type\u001b[0m \u001b[0;32mnot\u001b[0m \u001b[0;32min\u001b[0m \u001b[0;34m(\u001b[0m\u001b[0;34m\"binary\"\u001b[0m\u001b[0;34m,\u001b[0m \u001b[0;34m\"multiclass\"\u001b[0m\u001b[0;34m)\u001b[0m\u001b[0;34m:\u001b[0m\u001b[0;34m\u001b[0m\u001b[0;34m\u001b[0m\u001b[0m\n\u001b[1;32m    309\u001b[0m         \u001b[0;32mraise\u001b[0m \u001b[0mValueError\u001b[0m\u001b[0;34m(\u001b[0m\u001b[0;34m\"%s is not supported\"\u001b[0m \u001b[0;34m%\u001b[0m \u001b[0my_type\u001b[0m\u001b[0;34m)\u001b[0m\u001b[0;34m\u001b[0m\u001b[0;34m\u001b[0m\u001b[0m\n",
            "\u001b[0;32m/usr/local/lib/python3.7/dist-packages/sklearn/metrics/_classification.py\u001b[0m in \u001b[0;36m_check_targets\u001b[0;34m(y_true, y_pred)\u001b[0m\n\u001b[1;32m     93\u001b[0m         raise ValueError(\n\u001b[1;32m     94\u001b[0m             \"Classification metrics can't handle a mix of {0} and {1} targets\".format(\n\u001b[0;32m---> 95\u001b[0;31m                 \u001b[0mtype_true\u001b[0m\u001b[0;34m,\u001b[0m \u001b[0mtype_pred\u001b[0m\u001b[0;34m\u001b[0m\u001b[0;34m\u001b[0m\u001b[0m\n\u001b[0m\u001b[1;32m     96\u001b[0m             )\n\u001b[1;32m     97\u001b[0m         )\n",
            "\u001b[0;31mValueError\u001b[0m: Classification metrics can't handle a mix of binary and continuous targets"
          ]
        }
      ]
    },
    {
      "cell_type": "code",
      "source": [
        "pred.shape"
      ],
      "metadata": {
        "colab": {
          "base_uri": "https://localhost:8080/"
        },
        "id": "d1pGM1YWSndX",
        "outputId": "2d902673-b0bb-49bc-e5d4-2aea8a6dc3b0"
      },
      "execution_count": 263,
      "outputs": [
        {
          "output_type": "execute_result",
          "data": {
            "text/plain": [
              "(231, 10)"
            ]
          },
          "metadata": {},
          "execution_count": 263
        }
      ]
    },
    {
      "cell_type": "code",
      "source": [],
      "metadata": {
        "id": "rA-liJCJL0Hs"
      },
      "execution_count": null,
      "outputs": []
    }
  ]
}
